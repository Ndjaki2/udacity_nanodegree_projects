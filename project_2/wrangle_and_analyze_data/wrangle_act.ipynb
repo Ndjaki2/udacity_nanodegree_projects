{
 "cells": [
  {
   "cell_type": "markdown",
   "id": "aa5d1a00",
   "metadata": {},
   "source": [
    "# Project: Wrangle and Visualize Data\n",
    "## Twitter _WeRateDogs_ Case"
   ]
  },
  {
   "cell_type": "code",
   "execution_count": null,
   "id": "6c8190ac",
   "metadata": {},
   "outputs": [],
   "source": [
    "# Setting up my environment by important core packages\n",
    "from bs4 import BeautifulSoup\n",
    "import pandas as pd\n",
    "import numpy as np\n",
    "import seaborn as sns\n",
    "import html5lib\n",
    "import requests\n",
    "import tweepy\n",
    "import json\n",
    "import glob\n",
    "import csv\n",
    "import os\n",
    "import matplotlib.pyplot as plt\n",
    "%matplotlib inline"
   ]
  },
  {
   "cell_type": "markdown",
   "id": "3794b540",
   "metadata": {},
   "source": [
    "# Gathering Data"
   ]
  },
  {
   "cell_type": "code",
   "execution_count": null,
   "id": "a662acb7",
   "metadata": {},
   "outputs": [],
   "source": [
    "# Loading the twitter archived data into a pandas  DataFrame\n",
    "df_1 = pd.read_csv('twitter-archive-enhanced.csv')"
   ]
  },
  {
   "cell_type": "code",
   "execution_count": null,
   "id": "347ddbdc",
   "metadata": {},
   "outputs": [],
   "source": [
    "# Let's download the HTML programmaticaly by sending a GET request to the url\n",
    "url = 'https://d17h27t6h515a5.cloudfront.net/topher/2017/August/599fd2ad_image-predictions/image-predictions.tsv'\n",
    "response = requests.get(url, allow_redirects = True)\n",
    "\n",
    "# Saving TSV to file\n",
    "with open(\"image-predictions.tsv\", mode = 'wb') as file:\n",
    "    file.write(response.content)\n",
    "    \n",
    "soup = BeautifulSoup(response.content, 'lxml')"
   ]
  },
  {
   "cell_type": "code",
   "execution_count": null,
   "id": "5df3a9d4",
   "metadata": {},
   "outputs": [],
   "source": [
    "df_2 = pd.read_csv('image-predictions.tsv', sep = '\\t')"
   ]
  },
  {
   "cell_type": "code",
   "execution_count": null,
   "id": "3f5a687e",
   "metadata": {},
   "outputs": [],
   "source": [
    "# Loading the json file into a pandas DataFrame\n",
    "df_3 = pd.read_json('tweet.json', lines = True)"
   ]
  },
  {
   "cell_type": "markdown",
   "id": "50ea5169",
   "metadata": {},
   "source": [
    "# Assessing Data\n",
    "### Visual Assessment"
   ]
  },
  {
   "cell_type": "code",
   "execution_count": null,
   "id": "f646fa15",
   "metadata": {},
   "outputs": [],
   "source": [
    "# Display twitter-archive-enhanced Table\n",
    "df_1"
   ]
  },
  {
   "cell_type": "code",
   "execution_count": null,
   "id": "de8f92ef",
   "metadata": {},
   "outputs": [],
   "source": [
    "# Display image-predictions table\n",
    "df_2"
   ]
  },
  {
   "cell_type": "code",
   "execution_count": null,
   "id": "a5d5c8d5",
   "metadata": {},
   "outputs": [],
   "source": [
    "# Display tweet table\n",
    "df_3"
   ]
  },
  {
   "cell_type": "markdown",
   "id": "843e4ba8",
   "metadata": {},
   "source": [
    "### Programmatic Assessment"
   ]
  },
  {
   "cell_type": "code",
   "execution_count": null,
   "id": "87094abb",
   "metadata": {},
   "outputs": [],
   "source": [
    "df_1.info()"
   ]
  },
  {
   "cell_type": "code",
   "execution_count": null,
   "id": "68e1069a",
   "metadata": {},
   "outputs": [],
   "source": [
    "df_2.info()"
   ]
  },
  {
   "cell_type": "code",
   "execution_count": null,
   "id": "334a9890",
   "metadata": {},
   "outputs": [],
   "source": [
    "df_3.info()"
   ]
  },
  {
   "cell_type": "code",
   "execution_count": null,
   "id": "b95991d3",
   "metadata": {
    "scrolled": true
   },
   "outputs": [],
   "source": [
    "df_1.describe()"
   ]
  },
  {
   "cell_type": "code",
   "execution_count": null,
   "id": "42161b30",
   "metadata": {},
   "outputs": [],
   "source": [
    "df_2.describe()"
   ]
  },
  {
   "cell_type": "code",
   "execution_count": null,
   "id": "cc0045b7",
   "metadata": {},
   "outputs": [],
   "source": [
    "df_3.describe()"
   ]
  },
  {
   "cell_type": "code",
   "execution_count": null,
   "id": "87f16448",
   "metadata": {},
   "outputs": [],
   "source": [
    "df_1.sample(4)"
   ]
  },
  {
   "cell_type": "code",
   "execution_count": null,
   "id": "9b48ddd5",
   "metadata": {},
   "outputs": [],
   "source": [
    "df_2.sample(10)"
   ]
  },
  {
   "cell_type": "code",
   "execution_count": null,
   "id": "0ead5835",
   "metadata": {},
   "outputs": [],
   "source": [
    "df_3.sample(5)"
   ]
  },
  {
   "cell_type": "code",
   "execution_count": null,
   "id": "e3865919",
   "metadata": {},
   "outputs": [],
   "source": [
    "df_1.duplicated().sum()"
   ]
  },
  {
   "cell_type": "code",
   "execution_count": null,
   "id": "c6905cf5",
   "metadata": {},
   "outputs": [],
   "source": [
    "df_2.duplicated().sum()"
   ]
  },
  {
   "cell_type": "code",
   "execution_count": null,
   "id": "5919a563",
   "metadata": {},
   "outputs": [],
   "source": [
    "df_1.name.value_counts()"
   ]
  },
  {
   "cell_type": "code",
   "execution_count": null,
   "id": "0e3a6a91",
   "metadata": {},
   "outputs": [],
   "source": [
    "df_2.jpg_url.value_counts()"
   ]
  },
  {
   "cell_type": "code",
   "execution_count": null,
   "id": "f8c83ed0",
   "metadata": {},
   "outputs": [],
   "source": [
    "df_3.full_text.value_counts()"
   ]
  },
  {
   "cell_type": "code",
   "execution_count": null,
   "id": "c28da3e2",
   "metadata": {},
   "outputs": [],
   "source": [
    "df_3.source.value_counts()"
   ]
  },
  {
   "cell_type": "code",
   "execution_count": null,
   "id": "e980b072",
   "metadata": {},
   "outputs": [],
   "source": [
    "all_columns = pd.Series(list(df_1) + list(df_2) + list(df_3))\n",
    "all_columns[all_columns.duplicated()]"
   ]
  },
  {
   "cell_type": "markdown",
   "id": "ea60acf1",
   "metadata": {},
   "source": [
    "### Quality\n",
    "#### \"tweeter-archive-enhanced\" table\n",
    "- Poorly formatted timestamp columns (timestamp, retweeted_status_timestamp)\n",
    "- Column names aren't clear enough\n",
    "- Confusing names (a, an)\n",
    "- Erroneous datatypes (tweet_id, retweeted_status_id, retweeted_status_user_id, in_reply_to_status_id, in_reply_to_user_id)\n",
    "- Presence of non null values in retweet_related columns (retweeted_status_id, retweeted_status_user_id, retweeted_status_timestamp)\n",
    "- Missing of so many information in columns (in_reply_to_status_id, in_reply_to_user_id, retweeted_status_id, retweeted_status_user_id, retweeted_status_timestamp)\n",
    "- Retweeted data aren't revelant to the analysis (retweeted_status_id, retweeted_status_user_id, retweeted_status_timestamp)\n",
    "- Extraneous columns (source, text, expanded_urls)\n",
    "\n",
    "#### \"image-predictions\" table\n",
    "- Erroneous datatype (tweet_id)\n",
    "- Column names aren't clear enough (p1, p2, p3, p1_conf, p2_dog)\n",
    "- Inconsistency in column values capitalization (p1, p2, p3)\n",
    "- Inconsistency in word separation in column values (some with hyphen (-) others with underscore(_))\n",
    "\n",
    "#### \"tweet\" table\n",
    "- Poorly formatted dates (created_at column name)\n",
    "- Erroneous datatypes (id, id_str, in_reply_to_status_id, in_reply_to_status_id_str, in_reply_to_user_id, in_reply_to_user_id_str)\n",
    "- Entities column contains curly braces and square brackets due to the json format\n",
    "- Missing of huge amount of informations in columns (in_reply_to_status_id, in_reply_to_status_id_str, in_reply_to_user_id, in_reply_to_user_id_str, in_reply_to_screen_name, geo, coordinates, place, contributors, retweeted_status, quoted_status_id, quoted_status_id_str, quoted_status)\n",
    "- Missing information in some columns (extented_entities, possibly_sensitive, possibly_sensitive_appealable)\n",
    "- Erroneous datatypes (in_reply_to_status_id, in_reply_to_status_id_str, in_reply_to_user_id, in_reply_to_user_id_str)\n",
    "- Column values equal to zero (possibly_sensitive, possibly_sensitive_appealable)\n",
    "- Retweeted data aren't relevant to the analysis (\n",
    "- tweets beyond August 1st, 2017 aren't relevant since their image predictions are not available"
   ]
  },
  {
   "cell_type": "markdown",
   "id": "6db3700f",
   "metadata": {},
   "source": [
    "### Tidiness\n",
    "#### \"tweeter-archive-enhanced\" table\n",
    "- There is one variable in four columns, each dog's name variable does not form a column (doggo, fluffer, pupper, puppo)\n",
    "\n",
    "#### \"image-predictions\" table\n",
    "- Image predictions are split up into several lines\n",
    "- Prediction, confidence and breed of dogs (p, p_conf, p_dog) do not respectively form a single column\n",
    "\n",
    "#### \"tweet\" table\n"
   ]
  },
  {
   "cell_type": "markdown",
   "id": "99ee0a72",
   "metadata": {},
   "source": [
    "# Cleaning Data"
   ]
  },
  {
   "cell_type": "code",
   "execution_count": null,
   "id": "140ae551",
   "metadata": {},
   "outputs": [],
   "source": [
    "# Create a copy of the twitter-archive-enhanced dataframe\n",
    "df_clean_1 = df_1.copy()"
   ]
  },
  {
   "cell_type": "markdown",
   "id": "fac4437c",
   "metadata": {},
   "source": [
    "### Define\n",
    "- Convert timestamp and retweeted_status_timestamp into datetime\n",
    "- Rename name column into dog_name\n",
    "- Remove confusing dogs' name\n",
    "- Convert tweet_id, retweeted_status_id, retweeted_status_user_id, in_reply_to_status_id, in_reply_to_user_id into string datatype\n",
    "- Remove rows that have values belonging to columns retweeted_status_id, retweeted_status_user_id, and retweeted_status_timestamp  to get rid of retweets\n",
    "- Ditch columns with most of the values missing\n",
    "- Drop extraneous columns that aren't relevant to our questions\n",
    "- Merge the four columns (doggo, fluffer, pupper, puppo) into one variable called dog_name\n",
    "- Remove extraneous columns (source, text, expanded_urls)"
   ]
  },
  {
   "cell_type": "markdown",
   "id": "79bf186c",
   "metadata": {},
   "source": [
    "### Code"
   ]
  },
  {
   "cell_type": "code",
   "execution_count": null,
   "id": "b7691957",
   "metadata": {},
   "outputs": [],
   "source": [
    "# Convert timestamp and retweeted_status_timestamp into datetime\n",
    "df_clean_1.timestamp = pd.to_datetime(df_clean_1.timestamp)\n",
    "\n",
    "df_clean_1.retweeted_status_timestamp = pd.to_datetime(df_clean_1.retweeted_status_timestamp)"
   ]
  },
  {
   "cell_type": "code",
   "execution_count": null,
   "id": "504805db",
   "metadata": {},
   "outputs": [],
   "source": [
    "# Rename name column into dog_name\n",
    "df_clean_1.rename(columns = {'name': 'dog_name'}, inplace = True)"
   ]
  },
  {
   "cell_type": "code",
   "execution_count": null,
   "id": "268f4afd",
   "metadata": {},
   "outputs": [],
   "source": [
    "# Remove confusing dogs' name\n",
    "df_clean_1 = df_clean_1[df_clean_1.dog_name != 'a']\n",
    "df_clean_1 = df_clean_1[df_clean_1.dog_name != 'an']"
   ]
  },
  {
   "cell_type": "code",
   "execution_count": null,
   "id": "71d6bb04",
   "metadata": {},
   "outputs": [],
   "source": [
    "# Convert tweet_id, retweeted_status_id, retweeted_status_user_id, in_reply_to_status_id, in_reply_to_user_id into string datatype\n",
    "id_columns = ['tweet_id', 'in_reply_to_status_id', 'in_reply_to_user_id', 'retweeted_status_id', 'retweeted_status_user_id']\n",
    "for i in id_columns:\n",
    "    df_clean_1[i] = df_clean_1[i].astype(str)"
   ]
  },
  {
   "cell_type": "code",
   "execution_count": null,
   "id": "4dd6daab",
   "metadata": {},
   "outputs": [],
   "source": [
    "#  Remove rows that have values belonging to columns retweeted_status_id, retweeted_status_user_id, and retweeted_status_timestamp  to get rid of retweets\n",
    "df_clean_retweet = df_clean_1[df_clean_1.retweeted_status_id.isnull()]\n",
    "df_clean_retweet = df_clean_1[df_clean_1.retweeted_status_user_id.isnull()]\n",
    "df_clean_retweet = df_clean_1[df_clean_1.retweeted_status_timestamp.isnull()]"
   ]
  },
  {
   "cell_type": "code",
   "execution_count": null,
   "id": "7aa04b7e",
   "metadata": {},
   "outputs": [],
   "source": [
    "# Ditch columns with most of the values missing and drop extraneous ones\n",
    "drop_columns = ['in_reply_to_status_id', 'in_reply_to_user_id', 'retweeted_status_id', 'retweeted_status_user_id','retweeted_status_timestamp', 'source', 'text', 'expanded_urls']\n",
    "df_clean_retweet.drop(drop_columns, axis = 1, inplace = True)"
   ]
  },
  {
   "cell_type": "code",
   "execution_count": null,
   "id": "7ff45375",
   "metadata": {},
   "outputs": [],
   "source": [
    "# Replace None with ''\n",
    "dog_columns = ['doggo', 'floofer', 'pupper', 'puppo', 'dog_name']\n",
    "for p in dog_columns:\n",
    "    df_clean_retweet[p] = df_clean_retweet[p].str.replace('None', '', regex = True)"
   ]
  },
  {
   "cell_type": "code",
   "execution_count": null,
   "id": "fd12c0b7",
   "metadata": {},
   "outputs": [],
   "source": [
    "# Merge the four columns (doggo, fluffer, pupper, puppo) into one variable called dog_name\n",
    "df_clean_retweet['dog_stage'] = df_clean_retweet['doggo'] + df_clean_retweet['floofer'] + df_clean_retweet['pupper'] + df_clean_retweet['puppo']"
   ]
  },
  {
   "cell_type": "code",
   "execution_count": null,
   "id": "c7545816",
   "metadata": {},
   "outputs": [],
   "source": [
    "# Drop extraneous columns\n",
    "drop_columns = ['doggo', 'floofer', 'pupper', 'puppo']\n",
    "df_clean_retweet.drop(drop_columns, axis = 1, inplace = True)\n",
    "\n",
    "# Fill empty columns with na\n",
    "empty_columns = ['dog_name', 'dog_stage']\n",
    "for e in empty_columns:\n",
    "    df_clean_retweet[e] = df_clean_retweet[e].replace('', np.nan)"
   ]
  },
  {
   "cell_type": "markdown",
   "id": "bf84e450",
   "metadata": {},
   "source": [
    "### Test"
   ]
  },
  {
   "cell_type": "code",
   "execution_count": null,
   "id": "f0ae6232",
   "metadata": {
    "scrolled": true
   },
   "outputs": [],
   "source": [
    "df_clean_retweet.info()"
   ]
  },
  {
   "cell_type": "code",
   "execution_count": null,
   "id": "45d41672",
   "metadata": {},
   "outputs": [],
   "source": [
    "df_clean_retweet.duplicated().sum()"
   ]
  },
  {
   "cell_type": "code",
   "execution_count": null,
   "id": "ae2d17d8",
   "metadata": {},
   "outputs": [],
   "source": [
    "df_clean_retweet.columns"
   ]
  },
  {
   "cell_type": "code",
   "execution_count": null,
   "id": "d74f6488",
   "metadata": {},
   "outputs": [],
   "source": [
    "df_clean_retweet.dog_name.value_counts().sort_values()"
   ]
  },
  {
   "cell_type": "code",
   "execution_count": null,
   "id": "3ed837ea",
   "metadata": {},
   "outputs": [],
   "source": [
    "df_clean_retweet.head()"
   ]
  },
  {
   "cell_type": "code",
   "execution_count": null,
   "id": "90f4320f",
   "metadata": {},
   "outputs": [],
   "source": [
    "df_clean_retweet.sample(5)"
   ]
  },
  {
   "cell_type": "markdown",
   "id": "86e08866",
   "metadata": {},
   "source": [
    "#### Create a copy of the image-predictions dataframe"
   ]
  },
  {
   "cell_type": "code",
   "execution_count": null,
   "id": "26310bde",
   "metadata": {},
   "outputs": [],
   "source": [
    "df_clean_2 = df_2.copy()"
   ]
  },
  {
   "cell_type": "markdown",
   "id": "b6af21ce",
   "metadata": {},
   "source": [
    "### Define\n",
    "- Convert tweet_id into string datatype\n",
    "- Rename columns p1, p2, p3\n",
    "- Make capitalization consistent columns p1, p2, p3 values\n",
    "- Replace hyphen with underscore sign in column values\n",
    "- Merge prediction, confidence and breed variables into three columns"
   ]
  },
  {
   "cell_type": "markdown",
   "id": "9e8b189d",
   "metadata": {},
   "source": [
    "### Code"
   ]
  },
  {
   "cell_type": "code",
   "execution_count": null,
   "id": "59fe29b6",
   "metadata": {},
   "outputs": [],
   "source": [
    "# Convert tweet_id into string datatype\n",
    "df_clean_2.fillna(0, inplace = True)\n",
    "df_clean_2['tweet_id'] = df_clean_2['tweet_id'].astype(str)"
   ]
  },
  {
   "cell_type": "code",
   "execution_count": null,
   "id": "b755e653",
   "metadata": {},
   "outputs": [],
   "source": [
    "# Rename columns\n",
    "df_clean_2 = df_clean_2.rename(columns = {'p1': 'prediction_image_1', 'p2': 'prediction_image_2', 'p3': 'prediction_image_3', 'p1_conf': 'prediction_confidence_1', 'p2_conf': 'prediction_confidence_2', 'p3_conf': 'prediction_confidence_3', 'p1_dog': 'prediction_breed_1', 'p2_dog': 'prediction_breed_2', 'p3_dog': 'prediction_breed_3'})\n",
    "df_clean_2.head()"
   ]
  },
  {
   "cell_type": "code",
   "execution_count": null,
   "id": "8b4d1ed8",
   "metadata": {},
   "outputs": [],
   "source": [
    "# Make capitalization consistent columns p1, p2, p3 values\n",
    "prediction_columns = ['prediction_image_1', 'prediction_image_2', 'prediction_image_3']\n",
    "for p in prediction_columns:\n",
    "    df_clean_2[p] = df_clean_2[p].str.lower()"
   ]
  },
  {
   "cell_type": "code",
   "execution_count": null,
   "id": "78f843d6",
   "metadata": {},
   "outputs": [],
   "source": [
    "# Replace hyphen with underscore sign in column values\n",
    "prediction_columns = ['prediction_image_1', 'prediction_image_2', 'prediction_image_3']\n",
    "for p in prediction_columns:\n",
    "    df_clean_2[p] = df_clean_2[p].str.replace('-', '_', regex = True)"
   ]
  },
  {
   "cell_type": "code",
   "execution_count": null,
   "id": "7ca913f1",
   "metadata": {},
   "outputs": [],
   "source": [
    "# Concatenate/Merge prediction, confidence and breed columns\n",
    "df_clean_2['prediction_image'] = df_clean_2['prediction_image_1'].map(str) + ' | ' + df_clean_2['prediction_image_2'].map(str) + ' | ' + df_clean_2['prediction_image_3'].map(str)\n",
    "df_clean_2['prediction_confidence'] = df_clean_2['prediction_confidence_1'].map(str) + ' | ' + df_clean_2['prediction_confidence_2'].map(str) + ' | ' + df_clean_2['prediction_confidence_3'].map(str)\n",
    "df_clean_2['prediction_breed'] = df_clean_2['prediction_breed_1'].map(str) + ' | ' + df_clean_2['prediction_breed_2'].map(str) + ' | ' + df_clean_2['prediction_breed_3'].map(str)\n",
    "\n",
    "# Ditch additional columns\n",
    "ditch_columns = ['prediction_image_1', 'prediction_image_2', 'prediction_image_3', 'prediction_confidence_1', 'prediction_confidence_2', 'prediction_confidence_3', 'prediction_breed_1', 'prediction_breed_2', 'prediction_breed_3']\n",
    "df_clean_2.drop(ditch_columns, axis = 1, inplace = True)"
   ]
  },
  {
   "cell_type": "markdown",
   "id": "ae2d7dc1",
   "metadata": {},
   "source": [
    "### Test"
   ]
  },
  {
   "cell_type": "code",
   "execution_count": null,
   "id": "9b13cdb3",
   "metadata": {},
   "outputs": [],
   "source": [
    "list(df_clean_2)"
   ]
  },
  {
   "cell_type": "code",
   "execution_count": null,
   "id": "1705d87b",
   "metadata": {},
   "outputs": [],
   "source": [
    "df_clean_2.sample(10)"
   ]
  },
  {
   "cell_type": "code",
   "execution_count": null,
   "id": "d78a6c75",
   "metadata": {},
   "outputs": [],
   "source": [
    "df_clean_2.head()"
   ]
  },
  {
   "cell_type": "markdown",
   "id": "15e033a6",
   "metadata": {},
   "source": [
    "#### Create a copy of the tweet_json dataframe"
   ]
  },
  {
   "cell_type": "code",
   "execution_count": null,
   "id": "88375fb3",
   "metadata": {},
   "outputs": [],
   "source": [
    "df_clean_3 = df_3.copy()"
   ]
  },
  {
   "cell_type": "markdown",
   "id": "d2fce323",
   "metadata": {},
   "source": [
    "### Define\n",
    "- Convert created_at column into datetime\n",
    "- Convert id, id_str, in_reply_to_status_id, in_reply_to_status_id_str, in_reply_to_user_id, in_reply_to_user_id_str to string datatype\n",
    "- Ditch extraneous columns and the ones with most of the values missing\n",
    "- Filter tweets and get rid of those beyond August 1st, 2017 which do not have image predictions\n",
    "- Rename id into tweet_id"
   ]
  },
  {
   "cell_type": "markdown",
   "id": "0b8b9f31",
   "metadata": {},
   "source": [
    "### Code"
   ]
  },
  {
   "cell_type": "code",
   "execution_count": null,
   "id": "8eb724a9",
   "metadata": {},
   "outputs": [],
   "source": [
    "# Convert created_at into datetime type\n",
    "df_clean_3.created_at = pd.to_datetime(df_clean_3.created_at)"
   ]
  },
  {
   "cell_type": "code",
   "execution_count": null,
   "id": "1e8e378d",
   "metadata": {},
   "outputs": [],
   "source": [
    "# Convert id, id_str, in_reply_to_status_id, in_reply_to_status_id_str, in_reply_to_user_id, in_reply_to_user_id_str to string\n",
    "id_columns = ['id', 'id_str', 'in_reply_to_status_id', 'in_reply_to_status_id_str', 'in_reply_to_user_id', 'in_reply_to_user_id_str']\n",
    "for i in id_columns:\n",
    "    df_clean_3[i] = df_clean_3[i].astype(str)"
   ]
  },
  {
   "cell_type": "code",
   "execution_count": null,
   "id": "f12033d4",
   "metadata": {
    "scrolled": true
   },
   "outputs": [],
   "source": [
    "# Ditch bias and extraneous columns\n",
    "drop_columns = ['id_str', 'retweeted', 'display_text_range', 'entities', 'extended_entities', 'in_reply_to_status_id', 'in_reply_to_status_id_str', 'in_reply_to_screen_name', 'in_reply_to_user_id', 'in_reply_to_user_id_str', 'user', 'geo', 'coordinates', 'place', 'contributors', 'is_quote_status', 'possibly_sensitive', 'possibly_sensitive_appealable', 'quoted_status_id', 'quoted_status_id_str', 'quoted_status', 'source', 'full_text', 'truncated', 'retweeted_status', 'favorited', 'lang']\n",
    "df_clean_3.drop(drop_columns, axis = 1, inplace = True)"
   ]
  },
  {
   "cell_type": "code",
   "execution_count": null,
   "id": "ae5a49fa",
   "metadata": {},
   "outputs": [],
   "source": [
    "# Filter tweets and get rid of those beyond August 1st, 2017\n",
    "df_clean_3.loc[df_clean_3['created_at'] <= '2017-08-01']"
   ]
  },
  {
   "cell_type": "code",
   "execution_count": null,
   "id": "d24548eb",
   "metadata": {},
   "outputs": [],
   "source": [
    "# Rename id column into tweet_id\n",
    "df_clean_3 = df_clean_3.rename(columns = {'id': 'tweet_id'})\n",
    "\n",
    "# Reorder columns\n",
    "df_clean_3 = df_clean_3.iloc[:, [1,3,2,0]]"
   ]
  },
  {
   "cell_type": "markdown",
   "id": "13011ad8",
   "metadata": {},
   "source": [
    "### Test"
   ]
  },
  {
   "cell_type": "code",
   "execution_count": null,
   "id": "b4d136da",
   "metadata": {},
   "outputs": [],
   "source": [
    "df_clean_3.created_at.dtypes"
   ]
  },
  {
   "cell_type": "code",
   "execution_count": null,
   "id": "9bbc58e7",
   "metadata": {},
   "outputs": [],
   "source": [
    "df_clean_3.head()"
   ]
  },
  {
   "cell_type": "code",
   "execution_count": null,
   "id": "5c141951",
   "metadata": {},
   "outputs": [],
   "source": [
    "df_clean_3.columns"
   ]
  },
  {
   "cell_type": "code",
   "execution_count": null,
   "id": "e24f26cf",
   "metadata": {},
   "outputs": [],
   "source": [
    "df_clean_3.created_at.sort_values()"
   ]
  },
  {
   "cell_type": "code",
   "execution_count": null,
   "id": "da47fb89",
   "metadata": {},
   "outputs": [],
   "source": [
    "df_clean_3.columns"
   ]
  },
  {
   "cell_type": "markdown",
   "id": "e91c8c83",
   "metadata": {},
   "source": [
    "#### Creating a tidy master dataset from df_clean_retweet, df_clean_2 and df_clean_3"
   ]
  },
  {
   "cell_type": "code",
   "execution_count": null,
   "id": "26e628cf",
   "metadata": {},
   "outputs": [],
   "source": [
    "# Merging the three datasets into one\n"
   ]
  },
  {
   "cell_type": "code",
   "execution_count": null,
   "id": "c3965e68",
   "metadata": {},
   "outputs": [],
   "source": [
    "df_clean_retweet.head(1)"
   ]
  },
  {
   "cell_type": "code",
   "execution_count": null,
   "id": "cfa7ee17",
   "metadata": {},
   "outputs": [],
   "source": [
    "df_clean_2.head(1)"
   ]
  },
  {
   "cell_type": "code",
   "execution_count": null,
   "id": "f5f17b23",
   "metadata": {},
   "outputs": [],
   "source": [
    "df_clean_3.head(1)"
   ]
  },
  {
   "cell_type": "code",
   "execution_count": null,
   "id": "9632e945",
   "metadata": {},
   "outputs": [],
   "source": [
    "master_df = df_clean_retweet.merge(df_clean_2, on = 'tweet_id').merge(df_clean_3, on = 'tweet_id')"
   ]
  },
  {
   "cell_type": "code",
   "execution_count": null,
   "id": "7584ec9d",
   "metadata": {},
   "outputs": [],
   "source": [
    "master_df.head()"
   ]
  },
  {
   "cell_type": "code",
   "execution_count": null,
   "id": "070256db",
   "metadata": {},
   "outputs": [],
   "source": [
    "master_df.shape"
   ]
  },
  {
   "cell_type": "code",
   "execution_count": null,
   "id": "18c4fc5f",
   "metadata": {},
   "outputs": [],
   "source": [
    "# Check duplicates\n",
    "master_df.duplicated().sum()"
   ]
  },
  {
   "cell_type": "markdown",
   "id": "933c126f",
   "metadata": {},
   "source": [
    "# Storing Data"
   ]
  },
  {
   "cell_type": "code",
   "execution_count": null,
   "id": "09e267d1",
   "metadata": {},
   "outputs": [],
   "source": [
    "master_df.to_csv('twitter_archive_master.csv', index = False)"
   ]
  },
  {
   "cell_type": "markdown",
   "id": "e6b8c628",
   "metadata": {},
   "source": [
    "# Analyze and Visualize Data"
   ]
  },
  {
   "cell_type": "markdown",
   "id": "53a84767",
   "metadata": {},
   "source": [
    "## Insights"
   ]
  },
  {
   "cell_type": "markdown",
   "id": "59810a3d",
   "metadata": {},
   "source": [
    "We will be exploring and analyzing the following insights\n",
    "- __Which dog rating is most popular ?__\n",
    "- __Is there a relationship between dog_name and favorite_count ?__\n",
    "- __What are the most popular dog breeds ?__"
   ]
  },
  {
   "cell_type": "code",
   "execution_count": null,
   "id": "2faac02a",
   "metadata": {},
   "outputs": [],
   "source": [
    "master_df.hist(figsize = (15, 8))"
   ]
  },
  {
   "cell_type": "markdown",
   "id": "1f3bded5",
   "metadata": {},
   "source": [
    "Rating numerator, denominator and retweet_count are the most skewed to the right"
   ]
  },
  {
   "cell_type": "markdown",
   "id": "d4c6d66f",
   "metadata": {},
   "source": [
    "### __Which rating is most popular__?"
   ]
  },
  {
   "cell_type": "code",
   "execution_count": null,
   "id": "f3db1d62",
   "metadata": {},
   "outputs": [],
   "source": [
    "master_df.rating_numerator.value_counts().plot(kind = 'bar', figsize = (15, 8));"
   ]
  },
  {
   "cell_type": "markdown",
   "id": "f9e89234",
   "metadata": {},
   "source": [
    "The three most popular and recurring ratings are __12__, __10__ and __11__"
   ]
  },
  {
   "cell_type": "markdown",
   "id": "0e041cb8",
   "metadata": {},
   "source": [
    "### What is the relationship between favorite_count and creation date if any?"
   ]
  },
  {
   "cell_type": "code",
   "execution_count": null,
   "id": "80c42db0",
   "metadata": {},
   "outputs": [],
   "source": [
    "master_df.plot.scatter(x = 'created_at', y = 'favorite_count', figsize = (20, 10))"
   ]
  },
  {
   "cell_type": "markdown",
   "id": "ef7fe574",
   "metadata": {},
   "source": [
    "There seems to be a positive correlation between favorite_count and the date of creation.\\\n",
    "The later the creation, the greater the count"
   ]
  },
  {
   "cell_type": "markdown",
   "id": "237e9bb7",
   "metadata": {},
   "source": [
    "### __What are the most popular dog stages__?"
   ]
  },
  {
   "cell_type": "code",
   "execution_count": null,
   "id": "ca78dabe",
   "metadata": {},
   "outputs": [],
   "source": [
    "master_df.dog_stage.value_counts().plot(kind = 'bar', figsize = (15, 5));"
   ]
  },
  {
   "cell_type": "markdown",
   "id": "0c8dddde",
   "metadata": {},
   "source": [
    "The three most popular dog stages are __pupper__, __doggo__, and __puppo__"
   ]
  }
 ],
 "metadata": {
  "kernelspec": {
   "display_name": "Python [conda env:root] *",
   "language": "python",
   "name": "conda-root-py"
  },
  "language_info": {
   "codemirror_mode": {
    "name": "ipython",
    "version": 3
   },
   "file_extension": ".py",
   "mimetype": "text/x-python",
   "name": "python",
   "nbconvert_exporter": "python",
   "pygments_lexer": "ipython3",
   "version": "3.9.12"
  }
 },
 "nbformat": 4,
 "nbformat_minor": 5
}
